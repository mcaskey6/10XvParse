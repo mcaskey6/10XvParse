{
 "cells": [
  {
   "cell_type": "code",
   "execution_count": 1,
   "metadata": {},
   "outputs": [],
   "source": [
    "import anndata\n",
    "import matplotlib\n",
    "import matplotlib.pyplot as plt\n",
    "import numpy as np\n",
    "import scanpy as sc"
   ]
  },
  {
   "cell_type": "code",
   "execution_count": 2,
   "metadata": {},
   "outputs": [],
   "source": [
    "data_10x = anndata.read_h5ad('processed_10x.h5ad')\n",
    "data_parse = anndata.read_h5ad('processed_parse.h5ad')"
   ]
  },
  {
   "cell_type": "code",
   "execution_count": 6,
   "metadata": {},
   "outputs": [
    {
     "name": "stdout",
     "output_type": "stream",
     "text": [
      "Top 10 genes in 10x data:\n",
      "                       is_mito  n_cells\n",
      "gene_id                                \n",
      "ENSMUSG00000092341.5     False     6102\n",
      "ENSMUSG00000064358.1      True     6001\n",
      "ENSMUSG00000064354.1      True     5842\n",
      "ENSMUSG00000049775.17    False     5802\n",
      "ENSMUSG00000064357.1      True     5733\n",
      "ENSMUSG00000060126.15    False     5628\n",
      "ENSMUSG00000029580.15    False     5480\n",
      "ENSMUSG00000000740.13    False     5371\n",
      "ENSMUSG00000047675.16    False     5348\n",
      "ENSMUSG00000064351.1      True     5193\n",
      "\n",
      "Top 10 genes in parse data:\n",
      "                       is_mito  n_cells\n",
      "gene_id                                \n",
      "ENSMUSG00000092341.5     False      456\n",
      "ENSMUSG00000030098.16    False      399\n",
      "ENSMUSG00000026395.17    False      371\n",
      "ENSMUSG00000028649.23    False      361\n",
      "ENSMUSG00000086503.5     False      356\n",
      "ENSMUSG00000040225.16    False      354\n",
      "ENSMUSG00000064351.1      True      351\n",
      "ENSMUSG00000010608.16    False      351\n",
      "ENSMUSG00000020719.15    False      344\n",
      "ENSMUSG00000031229.17    False      338\n"
     ]
    }
   ],
   "source": [
    "genes_10x = data_10x.var\n",
    "top_10x = genes_10x.sort_values(by='n_cells',ascending=False).head(10)\n",
    "\n",
    "genes_parse = data_parse.var\n",
    "top_parse = genes_parse.sort_values(by='n_cells',ascending=False).head(10)\n",
    "\n",
    "print(\"Top 10 genes in 10x data:\")\n",
    "print(top_10x)\n",
    "print()\n",
    "print(\"Top 10 genes in parse data:\")\n",
    "print(top_parse)"
   ]
  },
  {
   "cell_type": "code",
   "execution_count": 14,
   "metadata": {},
   "outputs": [
    {
     "name": "stdout",
     "output_type": "stream",
     "text": [
      "num common genes: 9542\n",
      "num 10x genes: 13076\n",
      "num parse genes: 9848\n"
     ]
    }
   ],
   "source": [
    "common_genes = data_10x.var_names.intersection(data_parse.var_names)\n",
    "print(\"num common genes: \" + str(common_genes.shape[0]))\n",
    "print(\"num 10x genes: \" + str(data_10x.var_names.shape[0]))\n",
    "print(\"num parse genes: \" + str(data_parse.var_names.shape[0]))"
   ]
  },
  {
   "cell_type": "code",
   "execution_count": 27,
   "metadata": {},
   "outputs": [
    {
     "name": "stdout",
     "output_type": "stream",
     "text": [
      "Number of shared genes from top 1000 genes for each method: 426\n"
     ]
    }
   ],
   "source": [
    "top_thousand_10x = genes_10x.sort_values(by='n_cells',ascending=False).head(1000)\n",
    "top_thousand_parse = genes_parse.sort_values(by='n_cells',ascending=False).head(1000)\n",
    "\n",
    "print(\"Number of shared genes from top 1000 genes for each method: \" + str(len(top_thousand_10x.index.intersection(top_thousand_parse.index))))"
   ]
  }
 ],
 "metadata": {
  "kernelspec": {
   "display_name": "base",
   "language": "python",
   "name": "python3"
  },
  "language_info": {
   "codemirror_mode": {
    "name": "ipython",
    "version": 3
   },
   "file_extension": ".py",
   "mimetype": "text/x-python",
   "name": "python",
   "nbconvert_exporter": "python",
   "pygments_lexer": "ipython3",
   "version": "3.12.2"
  }
 },
 "nbformat": 4,
 "nbformat_minor": 2
}
