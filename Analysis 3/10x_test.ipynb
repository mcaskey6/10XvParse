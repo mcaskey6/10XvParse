{
 "cells": [
  {
   "cell_type": "code",
   "execution_count": 1,
   "metadata": {},
   "outputs": [
    {
     "name": "stdout",
     "output_type": "stream",
     "text": [
      "splitcode, version 0.30.0\n",
      "usage: kb [-h] [--list] <CMD> ...\n",
      "\n",
      "kb_python 0.29.3\n",
      "\n",
      "positional arguments:\n",
      "  <CMD>\n",
      "    info      Display package and citation information\n",
      "    compile   Compile `kallisto` and `bustools` binaries from source\n",
      "    ref       Build a kallisto index and transcript-to-gene mapping\n",
      "    count     Generate count matrices from a set of single-cell FASTQ files\n",
      "    extract   Extract sequencing reads that were pseudoaligned to specific\n",
      "              genes/transcripts (or extract all reads that were / were not\n",
      "              pseudoaligned)\n",
      "\n",
      "options:\n",
      "  -h, --help  Show this help message and exit\n",
      "  --list      Display list of supported single-cell technologies\n",
      "\n",
      "fastq-dump : 3.0.3 ( 3.0.2 )\n",
      "\n"
     ]
    }
   ],
   "source": [
    "!splitcode --version\n",
    "!kb --version\n",
    "!fastq-dump --version"
   ]
  },
  {
   "cell_type": "code",
   "execution_count": null,
   "metadata": {},
   "outputs": [],
   "source": [
    "# Directories where data will be stored\n",
    "outdir = \"/mnt/data1/10XvParse/Analysis_3/\"\n",
    "fasta_folder = \"FASTA/Processed/\"\n",
    "sra_folder = \"SRA/\"\n",
    "tmp_folder = \"tmp/\"\n",
    "file_names = []\n",
    "srrs = []\n",
    "sample_names = ['H1','H2']"
   ]
  },
  {
   "cell_type": "code",
   "execution_count": null,
   "metadata": {},
   "outputs": [],
   "source": [
    "# Get SRA numbers organized by sample\n",
    "with open(\"SRA_accession/10x_accession.txt\") as access:\n",
    "    for line in access:\n",
    "        line = line.strip()\n",
    "        if line.startswith('H'):\n",
    "            name = f\"10x_{line}\"\n",
    "        else:\n",
    "            file_names.append(name)\n",
    "            srrs.append(line)"
   ]
  },
  {
   "cell_type": "code",
   "execution_count": null,
   "metadata": {},
   "outputs": [
    {
     "name": "stdout",
     "output_type": "stream",
     "text": [
      "/mnt/data1/10XvParse/Analysis_3/FASTA/Processed/10x_H1\n",
      "\n",
      "2025-08-19T18:09:18 prefetch.3.0.3: Current preference is set to retrieve SRA Normalized Format files with full base quality scores.\n",
      "2025-08-19T18:09:18 prefetch.3.0.3: 1) 'SRR26594154' is found locally\n",
      "2025-08-19T18:09:19 prefetch.3.0.3: 'SRR26594154' has 0 unresolved dependencies\n",
      "spots read      : 203,134,663\n",
      "reads read      : 406,269,326\n",
      "reads written   : 406,269,326\n",
      "/mnt/data1/10XvParse/Analysis_3/FASTA/Processed/10x_H2\n",
      "\n",
      "2025-08-19T18:38:24 prefetch.3.0.3: Current preference is set to retrieve SRA Normalized Format files with full base quality scores.\n",
      "2025-08-19T18:38:25 prefetch.3.0.3: 1) 'SRR26594153' is found locally\n",
      "2025-08-19T18:38:25 prefetch.3.0.3: 'SRR26594153' has 0 unresolved dependencies\n",
      "spots read      : 254,103,388\n",
      "reads read      : 508,206,776\n",
      "reads written   : 508,206,776\n"
     ]
    }
   ],
   "source": [
    "# Fetch fasta files given SRR numbers\n",
    "for srr, name in zip(srrs, file_names):\n",
    "    print(outdir+fasta_folder+name)\n",
    "    !prefetch {srr} --max-size u -O {outdir+sra_folder}\n",
    "    !fasterq-dump --outdir {outdir+fasta_folder} --temp {outdir+tmp_folder} \\\n",
    "        --outfile {name+\".fasta\"} --split-files --skip-technical -f \\\n",
    "        {outdir+sra_folder+srr+\"/\"+srr+\".sra\"} --threads 8 --fasta-unsorted\n",
    "    !pigz {outdir+fasta_folder+name+\"_1.fasta\"} -p 8\n",
    "    !pigz {outdir+fasta_folder+name+\"_2.fasta\"} -p 8"
   ]
  },
  {
   "cell_type": "code",
   "execution_count": 16,
   "metadata": {},
   "outputs": [
    {
     "name": "stdout",
     "output_type": "stream",
     "text": [
      "[2025-08-07 14:11:04,583]    INFO [download] Downloading files for human (standard workflow) from https://github.com/pachterlab/kallisto-transcriptome-indices/releases/download/v1/human_index_standard.tar.xz to tmp/human_index_standard.tar.xz\n",
      "100%|████████████████████████████████████████| 138M/138M [00:03<00:00, 40.7MB/s]\n",
      "[2025-08-07 14:11:08,147]    INFO [download] Extracting files from tmp/human_index_standard.tar.xz\n"
     ]
    }
   ],
   "source": [
    "# Download human genome\n",
    "!kb ref --overwrite -d human -i index.idx -g t2g.txt"
   ]
  },
  {
   "cell_type": "code",
   "execution_count": 4,
   "metadata": {},
   "outputs": [
    {
     "name": "stdout",
     "output_type": "stream",
     "text": [
      "[2025-08-19 14:32:41,902]    INFO [count] Using index index.idx to generate BUS file to /mnt/data1/10XvParse/Analysis_3/10x_H1_out from\n",
      "[2025-08-19 14:32:41,903]    INFO [count]         /mnt/data1/10XvParse/Analysis_3/FASTA/Processed/10x_H1_1.fasta.gz\n",
      "[2025-08-19 14:32:41,903]    INFO [count]         /mnt/data1/10XvParse/Analysis_3/FASTA/Processed/10x_H1_2.fasta.gz\n",
      "[2025-08-19 14:32:41,895]    INFO [count] Using index index.idx to generate BUS file to /mnt/data1/10XvParse/Analysis_3/10x_H2_out from\n",
      "[2025-08-19 14:32:41,895]    INFO [count]         /mnt/data1/10XvParse/Analysis_3/FASTA/Processed/10x_H2_1.fasta.gz\n",
      "[2025-08-19 14:32:41,895]    INFO [count]         /mnt/data1/10XvParse/Analysis_3/FASTA/Processed/10x_H2_2.fasta.gz\n",
      "[2025-08-19 14:48:34,867]    INFO [count] Sorting BUS file /mnt/data1/10XvParse/Analysis_3/10x_H1_out/output.bus to /mnt/data1/10XvParse/Analysis_3/10x_H1_out/tmp/output.s.bus\n",
      "[2025-08-19 14:49:04,321]    INFO [count] On-list not provided\n",
      "[2025-08-19 14:49:04,321]    INFO [count] Copying pre-packaged 10XV3 on-list to /mnt/data1/10XvParse/Analysis_3/10x_H1_out\n",
      "[2025-08-19 14:49:05,529]    INFO [count] Inspecting BUS file /mnt/data1/10XvParse/Analysis_3/10x_H1_out/tmp/output.s.bus\n",
      "[2025-08-19 14:49:20,857]    INFO [count] Correcting BUS records in /mnt/data1/10XvParse/Analysis_3/10x_H1_out/tmp/output.s.bus to /mnt/data1/10XvParse/Analysis_3/10x_H1_out/tmp/output.s.c.bus with on-list /mnt/data1/10XvParse/Analysis_3/10x_H1_out/10x_version3_whitelist.txt\n",
      "[2025-08-19 14:49:49,008]    INFO [count] Sorting BUS file /mnt/data1/10XvParse/Analysis_3/10x_H1_out/tmp/output.s.c.bus to /mnt/data1/10XvParse/Analysis_3/10x_H1_out/output.unfiltered.bus\n",
      "[2025-08-19 14:50:08,945]    INFO [count] Generating count matrix /mnt/data1/10XvParse/Analysis_3/10x_H1_out/counts_unfiltered/cells_x_genes from BUS file /mnt/data1/10XvParse/Analysis_3/10x_H1_out/output.unfiltered.bus\n",
      "[2025-08-19 14:50:24,324]    INFO [count] Writing gene names to file /mnt/data1/10XvParse/Analysis_3/10x_H1_out/counts_unfiltered/cells_x_genes.genes.names.txt\n",
      "[2025-08-19 14:50:24,626] WARNING [count] 13914 gene IDs do not have corresponding valid gene names. These genes will use their gene IDs instead.\n",
      "[2025-08-19 14:50:24,667]    INFO [count] Reading matrix /mnt/data1/10XvParse/Analysis_3/10x_H1_out/counts_unfiltered/cells_x_genes.mtx\n",
      "[2025-08-19 14:50:26,148]    INFO [count] Writing matrix to h5ad /mnt/data1/10XvParse/Analysis_3/10x_H1_out/counts_unfiltered/adata.h5ad\n",
      "[2025-08-19 14:53:15,313]    INFO [count] Sorting BUS file /mnt/data1/10XvParse/Analysis_3/10x_H2_out/output.bus to /mnt/data1/10XvParse/Analysis_3/10x_H2_out/tmp/output.s.bus\n",
      "[2025-08-19 14:53:52,271]    INFO [count] On-list not provided\n",
      "[2025-08-19 14:53:52,271]    INFO [count] Copying pre-packaged 10XV3 on-list to /mnt/data1/10XvParse/Analysis_3/10x_H2_out\n",
      "[2025-08-19 14:53:53,483]    INFO [count] Inspecting BUS file /mnt/data1/10XvParse/Analysis_3/10x_H2_out/tmp/output.s.bus\n",
      "[2025-08-19 14:54:10,212]    INFO [count] Correcting BUS records in /mnt/data1/10XvParse/Analysis_3/10x_H2_out/tmp/output.s.bus to /mnt/data1/10XvParse/Analysis_3/10x_H2_out/tmp/output.s.c.bus with on-list /mnt/data1/10XvParse/Analysis_3/10x_H2_out/10x_version3_whitelist.txt\n",
      "[2025-08-19 14:54:40,560]    INFO [count] Sorting BUS file /mnt/data1/10XvParse/Analysis_3/10x_H2_out/tmp/output.s.c.bus to /mnt/data1/10XvParse/Analysis_3/10x_H2_out/output.unfiltered.bus\n",
      "[2025-08-19 14:55:08,005]    INFO [count] Generating count matrix /mnt/data1/10XvParse/Analysis_3/10x_H2_out/counts_unfiltered/cells_x_genes from BUS file /mnt/data1/10XvParse/Analysis_3/10x_H2_out/output.unfiltered.bus\n",
      "[2025-08-19 14:55:27,298]    INFO [count] Writing gene names to file /mnt/data1/10XvParse/Analysis_3/10x_H2_out/counts_unfiltered/cells_x_genes.genes.names.txt\n",
      "[2025-08-19 14:55:27,618] WARNING [count] 13914 gene IDs do not have corresponding valid gene names. These genes will use their gene IDs instead.\n",
      "[2025-08-19 14:55:27,642]    INFO [count] Reading matrix /mnt/data1/10XvParse/Analysis_3/10x_H2_out/counts_unfiltered/cells_x_genes.mtx\n",
      "[2025-08-19 14:55:28,979]    INFO [count] Writing matrix to h5ad /mnt/data1/10XvParse/Analysis_3/10x_H2_out/counts_unfiltered/adata.h5ad\n",
      "done\n"
     ]
    }
   ],
   "source": [
    "import multiprocessing\n",
    "\n",
    "# Perform pseudoalignment of 10x reads\n",
    "def align(name):\n",
    "    read_in = outdir + fasta_folder + '10x_' + name\n",
    "    read_out = outdir + '10x_' + name + '_out'\n",
    "    !kb count --overwrite --h5ad -i index.idx -g t2g.txt -x 10XV3 -o {read_out} {read_in + \"_1.fasta.gz\"} {read_in + \"_2.fasta.gz\"}\n",
    "\n",
    "with multiprocessing.Pool(processes=2) as pool:\n",
    "    pool.map(align,sample_names)\n",
    "    print(\"done\")"
   ]
  }
 ],
 "metadata": {
  "kernelspec": {
   "display_name": "10XvParse",
   "language": "python",
   "name": "python3"
  },
  "language_info": {
   "codemirror_mode": {
    "name": "ipython",
    "version": 3
   },
   "file_extension": ".py",
   "mimetype": "text/x-python",
   "name": "python",
   "nbconvert_exporter": "python",
   "pygments_lexer": "ipython3",
   "version": "3.12.2"
  }
 },
 "nbformat": 4,
 "nbformat_minor": 2
}
