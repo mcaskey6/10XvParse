{
 "cells": [
  {
   "cell_type": "code",
   "execution_count": 6,
   "metadata": {},
   "outputs": [
    {
     "name": "stdout",
     "output_type": "stream",
     "text": [
      "splitcode, version 0.30.0\n",
      "usage: kb [-h] [--list] <CMD> ...\n",
      "\n",
      "kb_python 0.29.3\n",
      "\n",
      "positional arguments:\n",
      "  <CMD>\n",
      "    info      Display package and citation information\n",
      "    compile   Compile `kallisto` and `bustools` binaries from source\n",
      "    ref       Build a kallisto index and transcript-to-gene mapping\n",
      "    count     Generate count matrices from a set of single-cell FASTQ files\n",
      "    extract   Extract sequencing reads that were pseudoaligned to specific\n",
      "              genes/transcripts (or extract all reads that were / were not\n",
      "              pseudoaligned)\n",
      "\n",
      "options:\n",
      "  -h, --help  Show this help message and exit\n",
      "  --list      Display list of supported single-cell technologies\n",
      "\n",
      "fastq-dump : 3.0.3 ( 3.0.2 )\n",
      "\n"
     ]
    }
   ],
   "source": [
    "!splitcode --version\n",
    "!kb --version\n",
    "!fastq-dump --version"
   ]
  },
  {
   "cell_type": "code",
   "execution_count": 7,
   "metadata": {},
   "outputs": [],
   "source": [
    "# Directories where data will be stored\n",
    "outdir = \"/mnt/data1/10XvParse/Analysis_2/\"\n",
    "fasta_folder = \"FASTA/Raw/\"\n",
    "proc_folder = \"FASTA/Processed/\"\n",
    "sra_folder = \"SRA/\"\n",
    "tmp_folder = \"tmp/\"\n",
    "file_names = []\n",
    "srrs = []"
   ]
  },
  {
   "cell_type": "code",
   "execution_count": 3,
   "metadata": {},
   "outputs": [],
   "source": [
    "import os\n",
    "\n",
    "def make_dir(directory_name, outdir = \"\"):\n",
    "    path = outdir+directory_name\n",
    "    try:\n",
    "        os.makedirs(path)\n",
    "        print(f\"Directory '{directory_name}' created successfully.\")\n",
    "    except FileExistsError:\n",
    "        print(f\"Directory '{directory_name}' already exists.\")\n",
    "    except Exception as e:\n",
    "        print(f\"An error occurred: {e}\")"
   ]
  },
  {
   "cell_type": "code",
   "execution_count": 4,
   "metadata": {},
   "outputs": [
    {
     "name": "stdout",
     "output_type": "stream",
     "text": [
      "Directory 'FASTA/Raw/' already exists.\n",
      "Directory 'SRA/' already exists.\n",
      "Directory 'tmp/' already exists.\n",
      "Directory 'FASTA/Processed/' already exists.\n"
     ]
    }
   ],
   "source": [
    "# Ensure necessary sub-directories exist\n",
    "for directory_name in [fasta_folder, sra_folder, tmp_folder, proc_folder]:\n",
    "    make_dir(directory_name, outdir)"
   ]
  },
  {
   "cell_type": "code",
   "execution_count": 3,
   "metadata": {},
   "outputs": [],
   "source": [
    "# Get SRA numbers\n",
    "with open(\"SRA_accession/10x_accession.txt\") as access:\n",
    "    for i, line in enumerate(access):\n",
    "        name = name = f\"10x_{i+1}\"\n",
    "        srr = line.strip()\n",
    "        file_names.append(name)\n",
    "        srrs.append(srr)"
   ]
  },
  {
   "cell_type": "code",
   "execution_count": 7,
   "metadata": {},
   "outputs": [
    {
     "name": "stdout",
     "output_type": "stream",
     "text": [
      "/mnt/data1/10XvParse/Analysis_2/FASTA/Raw/10x_1\n",
      "spots read      : 215,517,133\n",
      "reads read      : 862,068,532\n",
      "reads written   : 431,034,266\n",
      "technical reads : 431,034,266\n",
      "/mnt/data1/10XvParse/Analysis_2/FASTA/Raw/10x_2\n",
      "spots read      : 41,508,492\n",
      "reads read      : 166,033,968\n",
      "reads written   : 83,016,984\n",
      "technical reads : 83,016,984\n",
      "/mnt/data1/10XvParse/Analysis_2/FASTA/Raw/10x_3\n",
      "spots read      : 18,620,924\n",
      "reads read      : 74,483,696\n",
      "reads written   : 37,241,848\n",
      "technical reads : 37,241,848\n",
      "/mnt/data1/10XvParse/Analysis_2/FASTA/Raw/10x_4\n",
      "spots read      : 146,491,184\n",
      "reads read      : 585,964,736\n",
      "reads written   : 292,982,368\n",
      "technical reads : 292,982,368\n",
      "/mnt/data1/10XvParse/Analysis_2/FASTA/Raw/10x_5\n",
      "spots read      : 216,970,400\n",
      "reads read      : 867,881,600\n",
      "reads written   : 433,940,800\n",
      "technical reads : 433,940,800\n"
     ]
    }
   ],
   "source": [
    "# Fetch fasta files given SRR numbers\n",
    "for srr, name in zip(srrs, file_names):\n",
    "    print(outdir+fasta_folder+name)\n",
    "    #!prefetch {srr} --max-size u -O {outdir+sra_folder}\n",
    "    !fasterq-dump --outdir {outdir+fasta_folder} --temp {outdir+tmp_folder} \\\n",
    "        --outfile {name+\".fasta\"} --split-files --skip-technical -f \\\n",
    "        {outdir+sra_folder+srr+\"/\"+srr+\".sra\"} --threads 8 --fasta-unsorted\n",
    "    !pigz {outdir+fasta_folder+name+\"_3.fasta\"} -p 8\n",
    "    !pigz {outdir+fasta_folder+name+\"_4.fasta\"} -p 8"
   ]
  },
  {
   "cell_type": "code",
   "execution_count": 15,
   "metadata": {},
   "outputs": [
    {
     "name": "stdout",
     "output_type": "stream",
     "text": [
      "Directory 'batch' already exists.\n",
      "Directory 'run_info' already exists.\n"
     ]
    }
   ],
   "source": [
    "make_dir(\"batch\")\n",
    "make_dir(\"run_info\")"
   ]
  },
  {
   "cell_type": "code",
   "execution_count": 14,
   "metadata": {},
   "outputs": [],
   "source": [
    "# Generate a batch file to combine fasta files\n",
    "batch_file = \"batch/10x_batch.txt\"\n",
    "with open(batch_file, \"w\") as batch:\n",
    "    for file in file_names:\n",
    "        fastq_files = [outdir + fasta_folder + file + \"_3.fasta.gz\", \n",
    "                   outdir + fasta_folder + file + \"_4.fasta.gz\"]\n",
    "        batch.write(f\"{file}\\t{fastq_files[0]}\\t{fastq_files[1]}\\n\")"
   ]
  },
  {
   "cell_type": "code",
   "execution_count": null,
   "metadata": {},
   "outputs": [],
   "source": [
    "proc_files = [outdir + proc_folder + \"10x_1.fasta.gz\", \n",
    "                outdir + proc_folder + \"10x_2.fasta.gz\"]\n",
    "mapping = \"run_info/10x_mapping.txt\"\n",
    "outb = \"run_info/10x_barcodes.fastq.gz\""
   ]
  },
  {
   "cell_type": "code",
   "execution_count": 17,
   "metadata": {},
   "outputs": [
    {
     "name": "stdout",
     "output_type": "stream",
     "text": [
      "* Using a list of 0 tags (vector size: 0; map size: 0; num elements in map: 0)\n",
      "* will process sample 1: /mnt/data1/10XvParse/Analysis_2/FASTA/Raw/10x_1_3.fasta.gz\n",
      "                         /mnt/data1/10XvParse/Analysis_2/FASTA/Raw/10x_1_4.fasta.gz\n",
      "* will process sample 2: /mnt/data1/10XvParse/Analysis_2/FASTA/Raw/10x_2_3.fasta.gz\n",
      "                         /mnt/data1/10XvParse/Analysis_2/FASTA/Raw/10x_2_4.fasta.gz\n",
      "* will process sample 3: /mnt/data1/10XvParse/Analysis_2/FASTA/Raw/10x_3_3.fasta.gz\n",
      "                         /mnt/data1/10XvParse/Analysis_2/FASTA/Raw/10x_3_4.fasta.gz\n",
      "* will process sample 4: /mnt/data1/10XvParse/Analysis_2/FASTA/Raw/10x_4_3.fasta.gz\n",
      "                         /mnt/data1/10XvParse/Analysis_2/FASTA/Raw/10x_4_4.fasta.gz\n",
      "* will process sample 5: /mnt/data1/10XvParse/Analysis_2/FASTA/Raw/10x_5_3.fasta.gz\n",
      "                         /mnt/data1/10XvParse/Analysis_2/FASTA/Raw/10x_5_4.fasta.gz\n",
      "631M reads processed         \n",
      "done \n",
      "* processed 639,108,133 reads\n"
     ]
    }
   ],
   "source": [
    "!splitcode --remultiplex \\\n",
    "    --nFastqs=2 --gzip -o {proc_files[0]},{proc_files[1]} \\\n",
    "    --outb={outb} --mapping={mapping} {batch_file} -t 8"
   ]
  },
  {
   "cell_type": "code",
   "execution_count": 11,
   "metadata": {},
   "outputs": [
    {
     "name": "stdout",
     "output_type": "stream",
     "text": [
      "[2025-09-22 17:26:17,041]    INFO [download] Skipping download because some files already exist. Use the --overwrite flag to overwrite.\n"
     ]
    }
   ],
   "source": [
    "# Download mouse genome. This experiment used C57BL/6N (Black 6) mice, so we can use a general reference genome. \n",
    "!kb ref -d mouse -i index.idx -g t2g.txt"
   ]
  },
  {
   "cell_type": "code",
   "execution_count": 20,
   "metadata": {},
   "outputs": [
    {
     "name": "stdout",
     "output_type": "stream",
     "text": [
      "[2025-08-27 17:45:43,973]    INFO [count] Using index index.idx to generate BUS file to /mnt/data1/10XvParse/Analysis_2/10x_out/ from\n",
      "[2025-08-27 17:45:43,973]    INFO [count]         /mnt/data1/10XvParse/Analysis_2/FASTA/Processed/10x_1.fasta.gz\n",
      "[2025-08-27 17:45:43,973]    INFO [count]         /mnt/data1/10XvParse/Analysis_2/FASTA/Processed/10x_2.fasta.gz\n",
      "[2025-08-27 18:40:39,674]    INFO [count] Sorting BUS file /mnt/data1/10XvParse/Analysis_2/10x_out/output.bus to /mnt/data1/10XvParse/Analysis_2/10x_out/tmp/output.s.bus\n",
      "[2025-08-27 18:41:44,468]    INFO [count] On-list not provided\n",
      "[2025-08-27 18:41:44,468]    INFO [count] Copying pre-packaged 10XV3 on-list to /mnt/data1/10XvParse/Analysis_2/10x_out/\n",
      "[2025-08-27 18:41:45,054]    INFO [count] Inspecting BUS file /mnt/data1/10XvParse/Analysis_2/10x_out/tmp/output.s.bus\n",
      "[2025-08-27 18:42:03,583]    INFO [count] Correcting BUS records in /mnt/data1/10XvParse/Analysis_2/10x_out/tmp/output.s.bus to /mnt/data1/10XvParse/Analysis_2/10x_out/tmp/output.s.c.bus with on-list /mnt/data1/10XvParse/Analysis_2/10x_out/10x_version3_whitelist.txt\n",
      "[2025-08-27 18:42:40,537]    INFO [count] Sorting BUS file /mnt/data1/10XvParse/Analysis_2/10x_out/tmp/output.s.c.bus to /mnt/data1/10XvParse/Analysis_2/10x_out/output.unfiltered.bus\n",
      "[2025-08-27 18:43:14,788]    INFO [count] Generating count matrix /mnt/data1/10XvParse/Analysis_2/10x_out/counts_unfiltered/cells_x_genes from BUS file /mnt/data1/10XvParse/Analysis_2/10x_out/output.unfiltered.bus\n",
      "[2025-08-27 18:43:35,140]    INFO [count] Writing gene names to file /mnt/data1/10XvParse/Analysis_2/10x_out/counts_unfiltered/cells_x_genes.genes.names.txt\n",
      "[2025-08-27 18:43:35,301] WARNING [count] 1599 gene IDs do not have corresponding valid gene names. These genes will use their gene IDs instead.\n",
      "[2025-08-27 18:43:35,315]    INFO [count] Reading matrix /mnt/data1/10XvParse/Analysis_2/10x_out/counts_unfiltered/cells_x_genes.mtx\n",
      "[2025-08-27 18:43:37,246]    INFO [count] Writing matrix to h5ad /mnt/data1/10XvParse/Analysis_2/10x_out/counts_unfiltered/adata.h5ad\n"
     ]
    }
   ],
   "source": [
    "# Perform pseudoalignment of 10x reads\n",
    "read_out = outdir + \"10x_out/\"\n",
    "!kb count --overwrite --h5ad -i index.idx -g t2g.txt -x 10XV3 -o {read_out} {proc_files[0]} {proc_files[1]}"
   ]
  },
  {
   "cell_type": "code",
   "execution_count": null,
   "metadata": {},
   "outputs": [],
   "source": []
  }
 ],
 "metadata": {
  "kernelspec": {
   "display_name": "10XvParse",
   "language": "python",
   "name": "python3"
  },
  "language_info": {
   "codemirror_mode": {
    "name": "ipython",
    "version": 3
   },
   "file_extension": ".py",
   "mimetype": "text/x-python",
   "name": "python",
   "nbconvert_exporter": "python",
   "pygments_lexer": "ipython3",
   "version": "3.12.3"
  }
 },
 "nbformat": 4,
 "nbformat_minor": 2
}
