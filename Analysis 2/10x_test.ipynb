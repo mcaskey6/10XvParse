{
 "cells": [
  {
   "cell_type": "code",
   "execution_count": 1,
   "metadata": {},
   "outputs": [
    {
     "name": "stdout",
     "output_type": "stream",
     "text": [
      "splitcode, version 0.30.0\n",
      "usage: kb [-h] [--list] <CMD> ...\n",
      "\n",
      "kb_python 0.29.3\n",
      "\n",
      "positional arguments:\n",
      "  <CMD>\n",
      "    info      Display package and citation information\n",
      "    compile   Compile `kallisto` and `bustools` binaries from source\n",
      "    ref       Build a kallisto index and transcript-to-gene mapping\n",
      "    count     Generate count matrices from a set of single-cell FASTQ files\n",
      "    extract   Extract sequencing reads that were pseudoaligned to specific\n",
      "              genes/transcripts (or extract all reads that were / were not\n",
      "              pseudoaligned)\n",
      "\n",
      "options:\n",
      "  -h, --help  Show this help message and exit\n",
      "  --list      Display list of supported single-cell technologies\n",
      "\n",
      "fastq-dump : 3.0.3 ( 3.0.2 )\n",
      "\n"
     ]
    }
   ],
   "source": [
    "!splitcode --version\n",
    "!kb --version\n",
    "!fastq-dump --version"
   ]
  },
  {
   "cell_type": "code",
   "execution_count": null,
   "metadata": {},
   "outputs": [],
   "source": [
    "# Directories where data will be stored\n",
    "outdir = \"/mnt/data1/10XvParse/Analysis_2/\"\n",
    "fasta_folder = \"FASTA/Raw/\"\n",
    "sra_folder = \"SRA/\"\n",
    "tmp_folder = \"tmp/\"\n",
    "file_names = []\n",
    "srrs = []"
   ]
  },
  {
   "cell_type": "code",
   "execution_count": null,
   "metadata": {},
   "outputs": [],
   "source": [
    "# Get SRA numbers\n",
    "with open(\"SRA_accession/10x_accession.txt\") as access:\n",
    "    for i, line in enumerate(access):\n",
    "        name = name = f\"10x_{i+1}\"\n",
    "        srr = line.strip()\n",
    "        file_names.append(name)\n",
    "        srrs.append(srr)"
   ]
  },
  {
   "cell_type": "code",
   "execution_count": null,
   "metadata": {},
   "outputs": [
    {
     "ename": "TypeError",
     "evalue": "'list' object cannot be interpreted as an integer",
     "output_type": "error",
     "traceback": [
      "\u001b[31m---------------------------------------------------------------------------\u001b[39m",
      "\u001b[31mTypeError\u001b[39m                                 Traceback (most recent call last)",
      "\u001b[36mCell\u001b[39m\u001b[36m \u001b[39m\u001b[32mIn[4]\u001b[39m\u001b[32m, line 1\u001b[39m\n\u001b[32m----> \u001b[39m\u001b[32m1\u001b[39m \u001b[38;5;28;01mfor\u001b[39;00m srr, name \u001b[38;5;129;01min\u001b[39;00m \u001b[38;5;28;43menumerate\u001b[39;49m\u001b[43m(\u001b[49m\u001b[43msrrs\u001b[49m\u001b[43m,\u001b[49m\u001b[43m \u001b[49m\u001b[43mfile_names\u001b[49m\u001b[43m)\u001b[49m:\n\u001b[32m      2\u001b[39m     \u001b[38;5;28mprint\u001b[39m(outdir+fasta_folder+name)\n\u001b[32m      3\u001b[39m     get_ipython().system(\u001b[33m'\u001b[39m\u001b[33mprefetch \u001b[39m\u001b[38;5;132;01m{srr}\u001b[39;00m\u001b[33m --max-size u -O \u001b[39m\u001b[33m{\u001b[39m\u001b[33moutdir+sra_folder}\u001b[39m\u001b[33m'\u001b[39m)\n",
      "\u001b[31mTypeError\u001b[39m: 'list' object cannot be interpreted as an integer"
     ]
    }
   ],
   "source": [
    "# Fetch fasta files given SRR numbers\n",
    "for srr, name in zip(srrs, file_names):\n",
    "    print(outdir+fasta_folder+name)\n",
    "    !prefetch {srr} --max-size u -O {outdir+sra_folder}\n",
    "    !fasterq-dump --outdir {outdir+fasta_folder} --temp {outdir+tmp_folder} \\\n",
    "        --outfile {name+\".fasta\"} --split-files --skip-technical -f \\\n",
    "        {outdir+sra_folder+srr+\"/\"+srr+\".sra\"} --threads 8 --fasta_unsorted\n",
    "    !pigz {outdir+fasta_folder+name+\"_3.fasta\"} -p 8\n",
    "    !pigz {outdir+fasta_folder+name+\"_4.fasta\"} -p 8"
   ]
  },
  {
   "cell_type": "code",
   "execution_count": null,
   "metadata": {},
   "outputs": [],
   "source": [
    "# Generate a batch file to combine fasta files\n",
    "batch_file = \"batch/10x_batch.txt\"\n",
    "with open(batch_file, \"w\") as batch:\n",
    "    for file in file_names:\n",
    "        fastq_files = [outdir + fasta_folder + file + \"_3.fasta.gz\", \n",
    "                   outdir + fasta_folder + file + \"_4.fasta.gz\"]\n",
    "        batch.write(f\"{file}\\t{fastq_files[0]}\\t{fastq_files[1]}\\n\")"
   ]
  },
  {
   "cell_type": "code",
   "execution_count": null,
   "metadata": {},
   "outputs": [],
   "source": [
    "proc_folder = \"FASTA/Processed/\"\n",
    "proc_files = [outdir + proc_folder + \"10x_1.fasta.gz\", \n",
    "                outdir + proc_folder + \"10x_2.fasta.gz\"]\n",
    "mapping = \"run_info/10x_mapping.txt\"\n",
    "outb = \"run_info/10x_barcodes.fastq.gz\""
   ]
  },
  {
   "cell_type": "code",
   "execution_count": 6,
   "metadata": {},
   "outputs": [
    {
     "name": "stdout",
     "output_type": "stream",
     "text": [
      "* Using a list of 0 tags (vector size: 0; map size: 0; num elements in map: 0)\n",
      "* will process sample 1: /mnt/data1/10XvParse/Analysis_2/FASTA/Raw/10x_1_3.fastq.gz\n",
      "                         /mnt/data1/10XvParse/Analysis_2/FASTA/Raw/10x_1_4.fastq.gz\n",
      "* will process sample 2: /mnt/data1/10XvParse/Analysis_2/FASTA/Raw/10x_2_3.fastq.gz\n",
      "                         /mnt/data1/10XvParse/Analysis_2/FASTA/Raw/10x_2_4.fastq.gz\n",
      "* will process sample 3: /mnt/data1/10XvParse/Analysis_2/FASTA/Raw/10x_3_3.fastq.gz\n",
      "                         /mnt/data1/10XvParse/Analysis_2/FASTA/Raw/10x_3_4.fastq.gz\n",
      "* will process sample 4: /mnt/data1/10XvParse/Analysis_2/FASTA/Raw/10x_4_3.fastq.gz\n",
      "                         /mnt/data1/10XvParse/Analysis_2/FASTA/Raw/10x_4_4.fastq.gz\n",
      "* will process sample 5: /mnt/data1/10XvParse/Analysis_2/FASTA/Raw/10x_5_3.fastq.gz\n",
      "                         /mnt/data1/10XvParse/Analysis_2/FASTA/Raw/10x_5_4.fastq.gz\n",
      "631M reads processed         \n",
      "done \n",
      "* processed 639,108,133 reads\n"
     ]
    }
   ],
   "source": [
    "!splitcode --remultiplex \\\n",
    "    --nFastqs=2 --gzip -o {proc_files[0]},{proc_files[1]} \\\n",
    "    --outb={outb} --mapping={mapping} {batch_file} -t 8"
   ]
  },
  {
   "cell_type": "code",
   "execution_count": 3,
   "metadata": {},
   "outputs": [
    {
     "name": "stdout",
     "output_type": "stream",
     "text": [
      "[2025-07-24 16:28:36,636]    INFO [download] Skipping download because some files already exist. Use the --overwrite flag to overwrite.\n"
     ]
    }
   ],
   "source": [
    "# Download mouse genome. This experiment used C57BL/6N (Black 6) mice, so we can use a general reference genome. \n",
    "!kb ref -d mouse -i index.idx -g t2g.txt"
   ]
  },
  {
   "cell_type": "code",
   "execution_count": 6,
   "metadata": {},
   "outputs": [
    {
     "name": "stdout",
     "output_type": "stream",
     "text": [
      "[2025-07-24 16:29:24,070]    INFO [count] Using index index.idx to generate BUS file to /mnt/data1/10XvParse/Analysis_2/10x_out/ from\n",
      "[2025-07-24 16:29:24,070]    INFO [count]         /mnt/data1/10XvParse/Analysis_2/FASTA/Processed/10x_1.fastq.gz\n",
      "[2025-07-24 16:29:24,070]    INFO [count]         /mnt/data1/10XvParse/Analysis_2/FASTA/Processed/10x_2.fastq.gz\n",
      "[2025-07-24 17:24:07,058]    INFO [count] Sorting BUS file /mnt/data1/10XvParse/Analysis_2/10x_out/output.bus to /mnt/data1/10XvParse/Analysis_2/10x_out/tmp/output.s.bus\n",
      "[2025-07-24 17:25:16,158]    INFO [count] On-list not provided\n",
      "[2025-07-24 17:25:16,158]    INFO [count] Copying pre-packaged 10XV3 on-list to /mnt/data1/10XvParse/Analysis_2/10x_out/\n",
      "[2025-07-24 17:25:16,894]    INFO [count] Inspecting BUS file /mnt/data1/10XvParse/Analysis_2/10x_out/tmp/output.s.bus\n",
      "[2025-07-24 17:25:37,028]    INFO [count] Correcting BUS records in /mnt/data1/10XvParse/Analysis_2/10x_out/tmp/output.s.bus to /mnt/data1/10XvParse/Analysis_2/10x_out/tmp/output.s.c.bus with on-list /mnt/data1/10XvParse/Analysis_2/10x_out/10x_version3_whitelist.txt\n",
      "[2025-07-24 17:26:10,585]    INFO [count] Sorting BUS file /mnt/data1/10XvParse/Analysis_2/10x_out/tmp/output.s.c.bus to /mnt/data1/10XvParse/Analysis_2/10x_out/output.unfiltered.bus\n",
      "[2025-07-24 17:26:41,935]    INFO [count] Generating count matrix /mnt/data1/10XvParse/Analysis_2/10x_out/counts_unfiltered/cells_x_genes from BUS file /mnt/data1/10XvParse/Analysis_2/10x_out/output.unfiltered.bus\n",
      "[2025-07-24 17:27:07,368]    INFO [count] Writing gene names to file /mnt/data1/10XvParse/Analysis_2/10x_out/counts_unfiltered/cells_x_genes.genes.names.txt\n",
      "[2025-07-24 17:27:07,536] WARNING [count] 1599 gene IDs do not have corresponding valid gene names. These genes will use their gene IDs instead.\n",
      "[2025-07-24 17:27:07,552]    INFO [count] Reading matrix /mnt/data1/10XvParse/Analysis_2/10x_out/counts_unfiltered/cells_x_genes.mtx\n",
      "[2025-07-24 17:27:10,995]    INFO [count] Writing matrix to h5ad /mnt/data1/10XvParse/Analysis_2/10x_out/counts_unfiltered/adata.h5ad\n"
     ]
    }
   ],
   "source": [
    "# Perform pseudoalignment of 10x reads\n",
    "read_out = outdir + \"10x_out/\"\n",
    "!kb count --overwrite --h5ad -i index.idx -g t2g.txt -x 10XV3 -o {read_out} {proc_files[0]} {proc_files[1]}"
   ]
  }
 ],
 "metadata": {
  "kernelspec": {
   "display_name": "10XvParse",
   "language": "python",
   "name": "python3"
  },
  "language_info": {
   "codemirror_mode": {
    "name": "ipython",
    "version": 3
   },
   "file_extension": ".py",
   "mimetype": "text/x-python",
   "name": "python",
   "nbconvert_exporter": "python",
   "pygments_lexer": "ipython3",
   "version": "3.12.2"
  }
 },
 "nbformat": 4,
 "nbformat_minor": 2
}
